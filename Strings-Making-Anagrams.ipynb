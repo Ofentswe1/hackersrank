{
 "cells": [
  {
   "cell_type": "markdown",
   "metadata": {},
   "source": [
    "# Strings Making Anagrams\n",
    "> Check out the resources on the page's right side to learn more about strings. The video tutorial is by Gayle Laakmann\n",
    "> McDowell, author of the best-selling interview book Cracking the Coding Interview.\n",
    "\n",
    "Alice is taking a cryptography class and finding anagrams to be very useful. We consider two strings to be anagrams of each other if the first string's letters can be rearranged to form the second string. In other words, both strings must contain the same exact letters in the same exact frequency For example, bacdc and dcbac are anagrams, but bacdc and dcbad are not.\n",
    "\n",
    "Alice decides on an encryption scheme involving two large strings where encryption is dependent on the minimum number of character deletions required to make the two strings anagrams. Can you help her find this number?\n",
    "\n",
    "Given two strings, *a* and *b*, that may or may not be of the same length, determine the minimum number of character deletions required to make *a* and *b* anagrams. Any characters can be deleted from either of the strings.\n",
    "\n",
    "This challenge is also available in the following translations:"
   ]
  },
  {
   "cell_type": "code",
   "execution_count": 1,
   "metadata": {},
   "outputs": [],
   "source": [
    "def string_anagram(a, b):\n",
    "    count = [0] * 26\n",
    "    offset = ord('a')\n",
    "\n",
    "    for char in a:\n",
    "        count[ord(char) - offset] += 1\n",
    "    for char in b:\n",
    "        count[ord(char) - offset] -= 1\n",
    "    value = 0\n",
    "    for i in count:\n",
    "        value += abs(i)\n",
    "    return value"
   ]
  },
  {
   "cell_type": "code",
   "execution_count": 2,
   "metadata": {},
   "outputs": [
    {
     "data": {
      "text/plain": [
       "4"
      ]
     },
     "execution_count": 2,
     "metadata": {},
     "output_type": "execute_result"
    }
   ],
   "source": [
    "string_anagram('abc', 'cde')"
   ]
  },
  {
   "cell_type": "markdown",
   "metadata": {},
   "source": [
    "### Optimal solution"
   ]
  }
 ],
 "metadata": {
  "kernelspec": {
   "display_name": "Python 3",
   "language": "python",
   "name": "python3"
  },
  "language_info": {
   "codemirror_mode": {
    "name": "ipython",
    "version": 3
   },
   "file_extension": ".py",
   "mimetype": "text/x-python",
   "name": "python",
   "nbconvert_exporter": "python",
   "pygments_lexer": "ipython3",
   "version": "3.6.3"
  }
 },
 "nbformat": 4,
 "nbformat_minor": 2
}
