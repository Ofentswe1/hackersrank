{
 "cells": [
  {
   "cell_type": "markdown",
   "metadata": {},
   "source": [
    "# Arrays Left Rotation\n",
    "> Check out the resources on the page's right side to learn more about arrays. The video tutorial is by \n",
    "> Gayle Laakmann McDowell, author of the best-selling interview book Cracking the Coding Interview."
   ]
  },
  {
   "cell_type": "markdown",
   "metadata": {},
   "source": [
    "A left rotation operation on an array of size *n* shifts each of the array's elements  *1* unit to the left. For example, if left rotations are performed on array *[1, 2, 3, 4, 5]*, then the array would become *[3, 4, 5, 1, 2]*.\n",
    "\n",
    "Given an array of integers and a number, perform left rotations on the array. Then print the updated array as a single line of space-separated integers.\n",
    "\n",
    "#### Input Format\n",
    "\n",
    "The first line contains two space-separated integers denoting the respective values of *n* (the number of integers) and *d* (the number of left rotations you must perform).\n",
    "The second line contains space-separated integers describing the respective elements of the array's initial state.\n",
    "\n",
    "##### Constraints\n",
    "1 <= *n* <= 1000000\n",
    "1 <= *d* <= n\n",
    "1 <= *a[i]* <= 10000000\n",
    "\n",
    "\n",
    "#### Output Format\n",
    "\n",
    "Print a single line of *n* space-separated integers denoting the final state of the array after performing *d* left rotations.\n",
    "\n",
    "\n",
    "#### Sample Input\n",
    "\n",
    "> 5 4  \n",
    "> 1 2 3 4 5\n",
    "\n",
    "#### Sample Output\n",
    "\n",
    "> 5 1 2 3 4\n"
   ]
  },
  {
   "cell_type": "code",
   "execution_count": 1,
   "metadata": {},
   "outputs": [
    {
     "name": "stdout",
     "output_type": "stream",
     "text": [
      "5 4\n",
      "1 2 3 4 5\n",
      "5 1 2 3 4\n"
     ]
    }
   ],
   "source": [
    "def array_left_rotation(a, n, k):\n",
    "    return a[k:] + a[:k]\n",
    "\n",
    "n, k = map(int, input().strip().split(' '))\n",
    "a = list(map(int, input().strip().split(' ')))\n",
    "answer = array_left_rotation(a, n, k);\n",
    "print(*answer, sep=' ')\n"
   ]
  },
  {
   "cell_type": "markdown",
   "metadata": {},
   "source": [
    "### Optimal solution"
   ]
  }
 ],
 "metadata": {
  "kernelspec": {
   "display_name": "Python 3",
   "language": "python",
   "name": "python3"
  },
  "language_info": {
   "codemirror_mode": {
    "name": "ipython",
    "version": 3
   },
   "file_extension": ".py",
   "mimetype": "text/x-python",
   "name": "python",
   "nbconvert_exporter": "python",
   "pygments_lexer": "ipython3",
   "version": "3.6.3"
  }
 },
 "nbformat": 4,
 "nbformat_minor": 2
}
