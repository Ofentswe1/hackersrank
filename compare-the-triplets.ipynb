{
 "cells": [
  {
   "cell_type": "markdown",
   "metadata": {},
   "source": [
    "Alice and Bob each created one problem for HackerRank. A reviewer rates the two challenges, awarding points on a scale from  to  for three categories: problem clarity, originality, and difficulty.\n",
    "\n",
    "We define the rating for Alice's challenge to be the triplet , and the rating for Bob's challenge to be the triplet .\n",
    "\n",
    "Your task is to find their comparison points by comparing  with ,  with , and  with .\n",
    "\n",
    "If , then Alice is awarded  point.\n",
    "If , then Bob is awarded  point.\n",
    "If , then neither person receives a point.\n",
    "Comparison points is the total points a person earned.\n",
    "\n",
    "Given  and , can you compare the two challenges and print their respective comparison points?\n",
    "\n",
    "### Input Format\n",
    "\n",
    "The first line contains  space-separated integers, , , and , describing the respective values in triplet . \n",
    "The second line contains  space-separated integers, , , and , describing the respective values in triplet .\n",
    "\n",
    "### Constraints\n",
    "\n",
    "### Output Format\n",
    "\n",
    "Print two space-separated integers denoting the respective comparison points earned by Alice and Bob.\n",
    "\n",
    "### Sample Input"
   ]
  },
  {
   "cell_type": "code",
   "execution_count": 1,
   "metadata": {},
   "outputs": [
    {
     "name": "stdout",
     "output_type": "stream",
     "text": [
      "5 6 7\n",
      "3 6 10\n",
      "1 1\n"
     ]
    }
   ],
   "source": [
    "import sys\n",
    "\n",
    "def solve(a0, a1, a2, b0, b1, b2):\n",
    "    # Complete this function\n",
    "    alice = 0\n",
    "    bob = 0\n",
    "    if a0 > b0:\n",
    "        alice += 1\n",
    "    elif(a0 < b0):\n",
    "        bob += 1\n",
    "    \n",
    "    if a1 > b1:\n",
    "        alice += 1\n",
    "    elif(a1 < b1):\n",
    "        bob += 1\n",
    "        \n",
    "    if a2 > b2:\n",
    "        alice += 1\n",
    "    elif(a2 < b2):\n",
    "        bob += 1\n",
    "        \n",
    "    return [alice, bob]\n",
    "\n",
    "a0, a1, a2 = input().strip().split(' ')\n",
    "a0, a1, a2 = [int(a0), int(a1), int(a2)]\n",
    "b0, b1, b2 = input().strip().split(' ')\n",
    "b0, b1, b2 = [int(b0), int(b1), int(b2)]\n",
    "result = solve(a0, a1, a2, b0, b1, b2)\n",
    "print (\" \".join(map(str, result)))\n",
    "\n"
   ]
  },
  {
   "cell_type": "markdown",
   "metadata": {},
   "source": [
    "### do more"
   ]
  }
 ],
 "metadata": {
  "kernelspec": {
   "display_name": "Python 3",
   "language": "python",
   "name": "python3"
  },
  "language_info": {
   "codemirror_mode": {
    "name": "ipython",
    "version": 3
   },
   "file_extension": ".py",
   "mimetype": "text/x-python",
   "name": "python",
   "nbconvert_exporter": "python",
   "pygments_lexer": "ipython3",
   "version": "3.6.3"
  }
 },
 "nbformat": 4,
 "nbformat_minor": 2
}
