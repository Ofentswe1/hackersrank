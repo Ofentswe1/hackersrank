{
 "cells": [
  {
   "cell_type": "markdown",
   "metadata": {},
   "source": [
    "Given an array of integers, calculate which fraction of its elements are positive, which fraction of its elements are negative, and which fraction of its elements are zeroes, respectively. Print the decimal value of each fraction on a new line.\n",
    "\n",
    "Note: This challenge introduces precision problems. The test cases are scaled to six decimal places, though answers with absolute error of up to  are acceptable.\n",
    "\n",
    "### Input Format\n",
    "\n",
    "The first line contains an integer, , denoting the size of the array. \n",
    "The second line contains  space-separated integers describing an array of numbers .\n",
    "\n",
    "### Output Format\n",
    "\n",
    "You must print the following  lines:\n",
    "\n",
    "A decimal representing of the fraction of positive numbers in the array compared to its size.\n",
    "A decimal representing of the fraction of negative numbers in the array compared to its size.\n",
    "A decimal representing of the fraction of zeroes in the array compared to its size.\n",
    "### Sample Input\n",
    "\n",
    "6\n",
    "-4 3 -9 0 4 1         \n",
    "### Sample Output\n",
    "\n",
    "0.500000\n",
    "0.333333\n",
    "0.166667\n",
    "\n",
    "### Explanation\n",
    "\n",
    "There are  positive numbers,  negative numbers, and  zero in the array. \n",
    "The respective fractions of positive numbers, negative numbers and zeroes are ,  and , respectively."
   ]
  },
  {
   "cell_type": "code",
   "execution_count": 1,
   "metadata": {},
   "outputs": [
    {
     "name": "stdout",
     "output_type": "stream",
     "text": [
      "6\n",
      "-4 3 -9 0 4 1\n",
      "0.500000\n",
      "0.333333\n",
      "0.166667\n"
     ]
    }
   ],
   "source": [
    "def plusMinus(arr):\n",
    "    # Complete this function\n",
    "    zero = arr.count(0)\n",
    "    total = len(arr)\n",
    "    neg = filter(lambda x: x > 0 , arr)\n",
    "    neg = len(list(neg))\n",
    "    pos = total - neg - zero\n",
    "    print(\"{:.6f}\".format(neg/total))\n",
    "    print(\"{:.6f}\".format(pos/total))\n",
    "    print(\"{:.6f}\".format(zero/total))\n",
    "\n",
    "if __name__ == \"__main__\":\n",
    "    n = int(input().strip())\n",
    "    arr = list(map(int, input().strip().split(' ')))\n",
    "    plusMinus(arr)"
   ]
  },
  {
   "cell_type": "markdown",
   "metadata": {},
   "source": [
    "### do more "
   ]
  }
 ],
 "metadata": {
  "kernelspec": {
   "display_name": "Python 3",
   "language": "python",
   "name": "python3"
  },
  "language_info": {
   "codemirror_mode": {
    "name": "ipython",
    "version": 3
   },
   "file_extension": ".py",
   "mimetype": "text/x-python",
   "name": "python",
   "nbconvert_exporter": "python",
   "pygments_lexer": "ipython3",
   "version": "3.6.3"
  }
 },
 "nbformat": 4,
 "nbformat_minor": 2
}
